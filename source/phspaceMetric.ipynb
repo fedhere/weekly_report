{
 "cells": [
  {
   "cell_type": "code",
   "execution_count": null,
   "metadata": {},
   "outputs": [],
   "source": [
    "import os\n",
    "import numpy as np\n",
    "import pandas as pd\n",
    "import matplotlib\n",
    "import matplotlib.pyplot as plt\n",
    "%matplotlib inline\n",
    "\n",
    "import healpy as hp\n",
    "import lsst.sims.maf.metrics as metrics\n",
    "import lsst.sims.maf.slicers as slicers\n",
    "import lsst.sims.maf.metricBundles as metricBundles\n",
    "import lsst.sims.maf.db as db"
   ]
  },
  {
   "cell_type": "markdown",
   "metadata": {},
   "source": [
    "## get some data for test"
   ]
  },
  {
   "cell_type": "code",
   "execution_count": null,
   "metadata": {},
   "outputs": [],
   "source": [
    "class getDataMetric(metrics.BaseMetric):\n",
    "    \"\"\"\n",
    "    returns needed data \n",
    "    \"\"\"\n",
    "    \n",
    "    def __init__(self, colname=['airmass', 'expMJD'], dataout=True, returnIdx=1, **kwargs):\n",
    "        self.colname = colname\n",
    "        self.returnIdx = returnIdx\n",
    "        self.dataout = dataout\n",
    "        if self.dataout:\n",
    "            super().__init__(col=self.colname, metricDtype='object', **kwargs)\n",
    "        else:\n",
    "            super().__init__(col=self.colname, metricDtype='float', **kwargs)\n",
    "        \n",
    "        \n",
    "    def run(self, dataSlice, slicePoint=None):\n",
    "        \n",
    "        # return dataSlice directly\n",
    "        if self.dataout:\n",
    "            result = dataSlice\n",
    "            return result\n",
    "        else:\n",
    "            result = np.mean(dataSlice[self.colname[int(self.returnIdx)]])\n",
    "            return float(result)\n"
   ]
  },
  {
   "cell_type": "code",
   "execution_count": null,
   "metadata": {},
   "outputs": [],
   "source": [
    "# run the metric\n",
    "\n",
    "metric = getDataMetric(colname=['observationStartMJD', 'fiveSigmaDepth', 'filter'])\n",
    "\n",
    "# ra,dec of ipix \n",
    "ra = np.array([255.9375])\n",
    "dec = np.array([0.0])\n",
    "slicer = slicers.UserPointsSlicer(ra, dec)\n",
    "\n",
    "sqlconstraint = 'night<300 and proposalId=3'\n",
    "metricSky = metricBundles.MetricBundle(metric,slicer,sqlconstraint)\n",
    "\n",
    "group = metricBundles.MetricBundleGroup({'metricSky':metricSky}, opsdb_baseline, outDir=outDir, resultsDb=resultsDb)\n",
    "group.runAll()\n"
   ]
  },
  {
   "cell_type": "markdown",
   "metadata": {},
   "source": [
    "## test the phase space metric "
   ]
  },
  {
   "cell_type": "code",
   "execution_count": null,
   "metadata": {},
   "outputs": [],
   "source": [
    "class phspaceMetric(metrics.BaseMetric):\n",
    "    \"\"\"\n",
    "    returns needed data \n",
    "    \"\"\"\n",
    "    \n",
    "    def __init__(self, colname=['airmass', 'expMJD'], dataout=True, returnIdx=1, **kwargs):\n",
    "        self.colname = colname\n",
    "        self.returnIdx = returnIdx\n",
    "        self.dataout = dataout\n",
    "        if self.dataout:\n",
    "            super().__init__(col=self.colname, metricDtype='object', **kwargs)\n",
    "        else:\n",
    "            super().__init__(col=self.colname, metricDtype='float', **kwargs)\n",
    "        \n",
    "        \n",
    "    def run(self, dataSlice, slicePoint=None):\n",
    "        \n",
    "        # return dataSlice directly\n",
    "        if self.dataout:\n",
    "            result = dataSlice\n",
    "            return result\n",
    "        else:\n",
    "            result = np.mean(dataSlice[self.colname[int(self.returnIdx)]])\n",
    "            return float(result)\n"
   ]
  }
 ],
 "metadata": {
  "kernelspec": {
   "display_name": "Python 3",
   "language": "python",
   "name": "python3"
  },
  "language_info": {
   "codemirror_mode": {
    "name": "ipython",
    "version": 3
   },
   "file_extension": ".py",
   "mimetype": "text/x-python",
   "name": "python",
   "nbconvert_exporter": "python",
   "pygments_lexer": "ipython3",
   "version": "3.6.2"
  }
 },
 "nbformat": 4,
 "nbformat_minor": 2
}
