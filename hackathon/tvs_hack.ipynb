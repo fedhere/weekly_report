{
 "cells": [
  {
   "cell_type": "markdown",
   "metadata": {},
   "source": [
    "# TVS Hackathon Project: \n"
   ]
  },
  {
   "cell_type": "markdown",
   "metadata": {},
   "source": [
    "## run maf"
   ]
  },
  {
   "cell_type": "code",
   "execution_count": null,
   "metadata": {},
   "outputs": [],
   "source": [
    "import os\n",
    "import numpy as np\n",
    "import pandas as pd\n",
    "import matplotlib\n",
    "import matplotlib.pyplot as plt\n",
    "%matplotlib inline\n",
    "#import seaborn as sn\n",
    "\n",
    "import healpy as hp\n",
    "import lsst.sims.maf.metrics as metrics\n",
    "import lsst.sims.maf.slicers as slicers\n",
    "import lsst.sims.maf.metricBundles as metricBundles\n",
    "import lsst.sims.maf.db as db"
   ]
  },
  {
   "cell_type": "code",
   "execution_count": null,
   "metadata": {},
   "outputs": [],
   "source": [
    "# connect to opsim database\n",
    "opsdb_baseline = db.OpsimDatabase('opsdb/baseline2018a.db')\n",
    "# opsdb_pontus = db.OpsimDatabase('opsdb/pontus_2573.db')\n",
    "\n",
    "# output directory\n",
    "outDir = 'outdir'\n",
    "resultsDb = db.ResultsDb(outDir=outDir)"
   ]
  },
  {
   "cell_type": "code",
   "execution_count": null,
   "metadata": {},
   "outputs": [],
   "source": [
    "# run the metric, check same filename in folder\n",
    "metric = METRICNAME()\n",
    "\n",
    "slicer = slicers.HealpixSlicer(nside=16) # for skymap\n",
    "# slicer = slicers.UserPointsSlicer(ra, dec) # for point fields\n",
    "sqlconstraint = 'night<700 and proposalId=3'\n",
    "\n",
    "metricSky = metricBundles.MetricBundle(metric,slicer,sqlconstraint)\n",
    "\n",
    "group = metricBundles.MetricBundleGroup({'metricSky':metricSky}, opsdb, outDir=outDir, resultsDb=resultsDb)\n",
    "group.runAll()\n",
    "group.plotAll(closefigs=False)"
   ]
  },
  {
   "cell_type": "markdown",
   "metadata": {},
   "source": [
    "## write a new metric"
   ]
  },
  {
   "cell_type": "code",
   "execution_count": null,
   "metadata": {},
   "outputs": [],
   "source": [
    "class newMetric(metrics.BaseMetric):\n",
    "    '''the simplest new metric'''\n",
    "    \n",
    "    def __init__(self, colname, **kwargs):\n",
    "        self.colname = colname\n",
    "        super().__init__(col=colname,**kwargs)\n",
    "        \n",
    "        # use dataout to set different output type\n",
    "        #if self.dataout:\n",
    "        #    super().__init__(col=self.colname, metricDtype='object', **kwargs)\n",
    "        #else:\n",
    "        #    super().__init__(col=self.colname, metricDtype='float', **kwargs)\n",
    "        \n",
    "    def run(self, dataSlice, slicePoint=None):\n",
    "        '''method used to calculate colume data, return a values for each slicepoint'''\n",
    "        \n",
    "        result = np.sum(dataSlice[self.colname])  \n",
    "        return result"
   ]
  },
  {
   "cell_type": "markdown",
   "metadata": {},
   "source": [
    "## get dataSlice for test"
   ]
  },
  {
   "cell_type": "code",
   "execution_count": null,
   "metadata": {},
   "outputs": [],
   "source": [
    "class getDataMetric(BaseMetric):\n",
    "    \"\"\"\n",
    "    returns required data \n",
    "    \"\"\"\n",
    "    \n",
    "    def __init__(self, colname=['airmass', 'expMJD'], dataout=True, returnIdx=1, **kwargs):\n",
    "        self.colname = colname\n",
    "        self.returnIdx = returnIdx\n",
    "        self.dataout = dataout\n",
    "        if self.dataout:\n",
    "            super().__init__(col=self.colname, metricDtype='object', **kwargs)\n",
    "        else:\n",
    "            super().__init__(col=self.colname, metricDtype='float', **kwargs)\n",
    "        \n",
    "        \n",
    "    def run(self, dataSlice, slicePoint=None):\n",
    "        \n",
    "        # return dataSlice directly\n",
    "        if self.dataout:\n",
    "            result = dataSlice\n",
    "            return result\n",
    "        else:\n",
    "            result = np.mean(dataSlice[self.colname[int(self.returnIdx)]])\n",
    "            return float(result)\n"
   ]
  },
  {
   "cell_type": "markdown",
   "metadata": {},
   "source": [
    "## utils"
   ]
  },
  {
   "cell_type": "code",
   "execution_count": null,
   "metadata": {},
   "outputs": [],
   "source": [
    "import numpy as np\n",
    "import matplotlib.pyplot as plt\n",
    "\n",
    "# plot light curve\n",
    "def plotlc(dataSlice, time_key='time', mag_key='mag', filter_key='filter', err_key = None,\n",
    "          peakEpoch=None, nearPeakT=None, postPeakT=None):\n",
    "    # Input: dataSlice, pandas DataFrame or numpy ndarray\n",
    "    import numpy as np\n",
    "\n",
    "    colors = {'u':'k', 'g':'b', 'r':'r', 'i':'m', 'z':'orange', 'y':'c'}\n",
    "    \n",
    "    plt.figure(figsize=(10, 6))\n",
    "    for f in np.unique(dataSlice[filter_key]):\n",
    "        fmatch = dataSlice[filter_key]==f\n",
    "        time = dataSlice[time_key][fmatch]\n",
    "        mag = dataSlice[mag_key][fmatch]\n",
    "        \n",
    "        # draw a vertical line to denote pre/near/post peak\n",
    "        if peakEpoch!=None:\n",
    "            plt.axvline(x=peakEpoch, linestyle='-', linewidth=1)\n",
    "            plt.axvline(x=peakEpoch-nearPeakT/2, linestyle='--', linewidth=1)\n",
    "            plt.axvline(x=peakEpoch+nearPeakT/2, linestyle='--', linewidth=1)\n",
    "            plt.axvline(x=peakEpoch+nearPeakT/2+postPeakT, linestyle='--', linewidth=1)\n",
    "        \n",
    "        if err_key!=None:\n",
    "            mag_err = dataSlice[err_key][fmatch]\n",
    "            plt.errorbar(time, mag, yerr=mag_err, color=colors[f], fmt='.', label=f)\n",
    "        else:\n",
    "            plt.scatter(time, mag, color=colors[f], marker='*', label=f)\n",
    "\n",
    "    plt.legend()\n",
    "    plt.xlabel(time_key)\n",
    "    plt.ylabel(mag_key)\n",
    "    plt.ylim(plt.ylim()[::-1])\n",
    "\n",
    "# plot skymap\n",
    "def plot_mwd(RA, Dec, c, org=0, title='Mollweide projection', projection='mollweide'):\n",
    "    ''' RA, Dec are arrays of the same length.\n",
    "    RA takes values in [0,360), Dec in [-90,90],\n",
    "    which represent angles in degrees.\n",
    "    org is the origin of the plot, 0 or a multiple of 30 degrees in [0,360).\n",
    "    title is the title of the figure.\n",
    "    projection is the kind of projection: 'mollweide', 'aitoff', 'hammer', 'lambert'\n",
    "    \n",
    "    Examples:\n",
    "    >>> plot_mwd(df['ra'], df['dec'], df['metricValues'])\n",
    "    '''\n",
    "    x = np.remainder(RA+360-org,360) # shift RA values\n",
    "    ind = x>180\n",
    "    x[ind] -=360    # scale conversion to [-180, 180]\n",
    "    x=-x    # reverse the scale: East to the left\n",
    "    tick_labels = np.array([150, 120, 90, 60, 30, 0, 330, 300, 270, 240, 210])\n",
    "    tick_labels = np.remainder(tick_labels+360+org,360)\n",
    "    fig = plt.figure(figsize=(10, 5))\n",
    "    ax = fig.add_subplot(111, projection=projection, facecolor ='LightCyan')\n",
    "    sc = ax.scatter(np.radians(x), np.radians(Dec), c=c, marker='.')  # convert degrees to radians\n",
    "    ax.set_xticklabels(tick_labels)     # we add the scale on the x axis\n",
    "    ax.set_title(title)\n",
    "    ax.title.set_fontsize(15)\n",
    "    ax.set_xlabel(\"RA\")\n",
    "    ax.xaxis.label.set_fontsize(12)\n",
    "    ax.set_ylabel(\"Dec\")\n",
    "    ax.yaxis.label.set_fontsize(12)\n",
    "    ax.grid(True)\n",
    "    plt.colorbar(sc)\n",
    "\n",
    "# convert between mag and flux\n",
    "def mag2flux(m, m0=18):\n",
    "    return 10**(-0.4 * (m - m0))\n",
    "\n",
    "def flux2mag(fx, m0=18):\n",
    "    return -2.5 * np.log10(fx) + m0\n",
    "\n",
    "# convert between SNR and standard deviation\n",
    "def snr2std(self, snr):\n",
    "    # standard deviation of magnitudes.\n",
    "    std = 2.5 * np.log10(1 + 1/snr)\n",
    "    return std \n",
    "\n",
    "# units convertion\n",
    "from astropy.coordinates import ICRS, Galactic\n",
    "from astropy import units as u\n",
    "def equ2gal(ra, dec):\n",
    "    # convert from equ to gal\n",
    "    c = ICRS(ra=ra*u.degree, dec=dec*u.degree)\n",
    "    g = c.transform_to(Galactic)\n",
    "    return g.l.deg, g.b.deg\n",
    "\n",
    "def gal2equ(l, b):\n",
    "    '''convert from l,b to ra, dec, in degree'''\n",
    "    c = Galactic(l=l*u.degree, b=b*u.degree)\n",
    "    eq = c.transform_to(ICRS)\n",
    "    return eq.ra.deg, eq.dec.deg\n",
    "\n"
   ]
  }
 ],
 "metadata": {
  "kernelspec": {
   "display_name": "Python 3",
   "language": "python",
   "name": "python3"
  },
  "language_info": {
   "codemirror_mode": {
    "name": "ipython",
    "version": 3
   },
   "file_extension": ".py",
   "mimetype": "text/x-python",
   "name": "python",
   "nbconvert_exporter": "python",
   "pygments_lexer": "ipython3",
   "version": "3.6.2"
  }
 },
 "nbformat": 4,
 "nbformat_minor": 2
}
